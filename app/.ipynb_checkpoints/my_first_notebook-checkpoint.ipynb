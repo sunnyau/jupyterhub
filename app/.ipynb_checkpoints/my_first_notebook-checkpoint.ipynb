{
 "cells": [
  {
   "cell_type": "code",
   "execution_count": 1,
   "metadata": {},
   "outputs": [
    {
     "name": "stdout",
     "output_type": "stream",
     "text": [
      "hello world\n"
     ]
    }
   ],
   "source": [
    "print(\"hello world\")"
   ]
  },
  {
   "cell_type": "markdown",
   "metadata": {},
   "source": [
    "# Using ChatGBT to generate Python codes using pandas library\n",
    "\n",
    "Sure, here's a basic example of using the Pandas library to work with data in Python. This code snippet demonstrates how to create a DataFrame, manipulate it, and analyze it. Let me know if you have a specific use case in mind!\n",
    "\n",
    "### Explanation\n",
    "\n",
    "1. **Creating a DataFrame:** We create a simple DataFrame with information about names, ages, cities, and scores.\n",
    "2. **Calculating the average age:** Using `.mean()`, we get the average of the 'Age' column.\n",
    "3. **Filtering Data:** We use conditional filtering to find people with scores greater than 85.\n",
    "4. **Adding a new column:** We add a \"Pass\" column that indicates if each person’s score is 80 or above.\n",
    "5. **Grouping data:** We group data by city to calculate the average score in each city.\n",
    "6. **Sorting:** Finally, we sort the DataFrame by age in descending order."
   ]
  },
  {
   "cell_type": "code",
   "execution_count": 4,
   "metadata": {},
   "outputs": [
    {
     "name": "stdout",
     "output_type": "stream",
     "text": [
      "Original DataFrame:\n",
      "      Name  Age         City  Score\n",
      "0    Alice   24     New York     88\n",
      "1      Bob   27  Los Angeles     92\n",
      "2  Charlie   22      Chicago     95\n",
      "3    David   32      Houston     70\n",
      "4      Eve   29      Phoenix     85\n",
      "\n",
      "Average Age: 26.8\n",
      "\n",
      "People with Score > 85:\n",
      "      Name  Age         City  Score\n",
      "0    Alice   24     New York     88\n",
      "1      Bob   27  Los Angeles     92\n",
      "2  Charlie   22      Chicago     95\n",
      "\n",
      "DataFrame with Pass Column:\n",
      "      Name  Age         City  Score   Pass\n",
      "0    Alice   24     New York     88   True\n",
      "1      Bob   27  Los Angeles     92   True\n",
      "2  Charlie   22      Chicago     95   True\n",
      "3    David   32      Houston     70  False\n",
      "4      Eve   29      Phoenix     85   True\n",
      "\n",
      "Average Score by City:\n",
      "City\n",
      "Chicago        95.0\n",
      "Houston        70.0\n",
      "Los Angeles    92.0\n",
      "New York       88.0\n",
      "Phoenix        85.0\n",
      "Name: Score, dtype: float64\n",
      "\n",
      "DataFrame sorted by Age (descending):\n",
      "      Name  Age         City  Score   Pass\n",
      "3    David   32      Houston     70  False\n",
      "4      Eve   29      Phoenix     85   True\n",
      "1      Bob   27  Los Angeles     92   True\n",
      "0    Alice   24     New York     88   True\n",
      "2  Charlie   22      Chicago     95   True\n"
     ]
    }
   ],
   "source": [
    "import pandas as pd\n",
    "\n",
    "# Create a DataFrame\n",
    "data = {\n",
    "    'Name': ['Alice', 'Bob', 'Charlie', 'David', 'Eve'],\n",
    "    'Age': [24, 27, 22, 32, 29],\n",
    "    'City': ['New York', 'Los Angeles', 'Chicago', 'Houston', 'Phoenix'],\n",
    "    'Score': [88, 92, 95, 70, 85]\n",
    "}\n",
    "df = pd.DataFrame(data)\n",
    "\n",
    "# Display the DataFrame\n",
    "print(\"Original DataFrame:\")\n",
    "print(df)\n",
    "\n",
    "# Calculate the average age\n",
    "average_age = df['Age'].mean()\n",
    "print(\"\\nAverage Age:\", average_age)\n",
    "\n",
    "# Filter data: Get people with Score > 85\n",
    "high_scores = df[df['Score'] > 85]\n",
    "print(\"\\nPeople with Score > 85:\")\n",
    "print(high_scores)\n",
    "\n",
    "# Add a new column\n",
    "df['Pass'] = df['Score'] >= 80\n",
    "print(\"\\nDataFrame with Pass Column:\")\n",
    "print(df)\n",
    "\n",
    "# Group by City and get average Score for each city\n",
    "average_score_by_city = df.groupby('City')['Score'].mean()\n",
    "print(\"\\nAverage Score by City:\")\n",
    "print(average_score_by_city)\n",
    "\n",
    "# Sort the DataFrame by Age in descending order\n",
    "sorted_df = df.sort_values(by='Age', ascending=False)\n",
    "print(\"\\nDataFrame sorted by Age (descending):\")\n",
    "print(sorted_df)"
   ]
  },
  {
   "cell_type": "markdown",
   "metadata": {},
   "source": []
  }
 ],
 "metadata": {
  "kernelspec": {
   "display_name": "jupyter38",
   "language": "python",
   "name": "python3"
  },
  "language_info": {
   "codemirror_mode": {
    "name": "ipython",
    "version": 3
   },
   "file_extension": ".py",
   "mimetype": "text/x-python",
   "name": "python",
   "nbconvert_exporter": "python",
   "pygments_lexer": "ipython3",
   "version": "3.12.7"
  }
 },
 "nbformat": 4,
 "nbformat_minor": 2
}
